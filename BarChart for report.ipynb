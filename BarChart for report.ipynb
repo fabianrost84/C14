{
 "cells": [
  {
   "cell_type": "code",
   "execution_count": 3,
   "metadata": {
    "collapsed": false
   },
   "outputs": [
    {
     "name": "stderr",
     "output_type": "stream",
     "text": [
      "Vendor:  Continuum Analytics, Inc.\n",
      "Package: mkl\n",
      "Message: trial mode expires in 30 days\n",
      "Vendor:  Continuum Analytics, Inc.\n",
      "Package: mkl\n",
      "Message: trial mode expires in 30 days\n"
     ]
    }
   ],
   "source": [
    "import pandas as pd\n",
    "import matplotlib.pyplot as plt\n",
    "import matplotlib.gridspec as gridspec\n",
    "import scipy as sp\n",
    "%matplotlib inline"
   ]
  },
  {
   "cell_type": "code",
   "execution_count": 4,
   "metadata": {
    "collapsed": false
   },
   "outputs": [],
   "source": [
    "ML_A_results = pd.read_pickle('ML_A_results.pkl')\n",
    "ML_2POP_results = pd.read_pickle('ML_2POP_results.pkl')"
   ]
  },
  {
   "cell_type": "code",
   "execution_count": 5,
   "metadata": {
    "collapsed": false
   },
   "outputs": [
    {
     "data": {
      "text/html": [
       "<div style=\"max-height:1000px;max-width:1500px;overflow:auto;\">\n",
       "<table border=\"1\" class=\"dataframe\">\n",
       "  <thead>\n",
       "    <tr style=\"text-align: right;\">\n",
       "      <th></th>\n",
       "      <th>estimate</th>\n",
       "      <th>min</th>\n",
       "      <th>max</th>\n",
       "    </tr>\n",
       "  </thead>\n",
       "  <tbody>\n",
       "    <tr>\n",
       "      <th>r</th>\n",
       "      <td> 0.227625</td>\n",
       "      <td> 0.136061</td>\n",
       "      <td> 3.832547</td>\n",
       "    </tr>\n",
       "    <tr>\n",
       "      <th>f</th>\n",
       "      <td> 0.340934</td>\n",
       "      <td> 0.306108</td>\n",
       "      <td> 0.375728</td>\n",
       "    </tr>\n",
       "    <tr>\n",
       "      <th>sigma</th>\n",
       "      <td> 0.029781</td>\n",
       "      <td> 0.025061</td>\n",
       "      <td> 0.036192</td>\n",
       "    </tr>\n",
       "  </tbody>\n",
       "</table>\n",
       "</div>"
      ],
      "text/plain": [
       "       estimate       min       max\n",
       "r      0.227625  0.136061  3.832547\n",
       "f      0.340934  0.306108  0.375728\n",
       "sigma  0.029781  0.025061  0.036192"
      ]
     },
     "execution_count": 5,
     "metadata": {},
     "output_type": "execute_result"
    }
   ],
   "source": [
    "ML_2POP_results"
   ]
  },
  {
   "cell_type": "code",
   "execution_count": 6,
   "metadata": {
    "collapsed": false
   },
   "outputs": [
    {
     "data": {
      "text/html": [
       "<div style=\"max-height:1000px;max-width:1500px;overflow:auto;\">\n",
       "<table border=\"1\" class=\"dataframe\">\n",
       "  <thead>\n",
       "    <tr style=\"text-align: right;\">\n",
       "      <th></th>\n",
       "      <th>estimate</th>\n",
       "    </tr>\n",
       "  </thead>\n",
       "  <tbody>\n",
       "    <tr>\n",
       "      <th>r</th>\n",
       "      <td>   0.0066</td>\n",
       "    </tr>\n",
       "    <tr>\n",
       "      <th>sigma</th>\n",
       "      <td> 500.0000</td>\n",
       "    </tr>\n",
       "  </tbody>\n",
       "</table>\n",
       "</div>"
      ],
      "text/plain": [
       "       estimate\n",
       "r        0.0066\n",
       "sigma  500.0000"
      ]
     },
     "execution_count": 6,
     "metadata": {},
     "output_type": "execute_result"
    }
   ],
   "source": [
    "LS_A_results = pd.DataFrame()\n",
    "\n",
    "LS_A_results.loc['r', 'estimate'] = 0.0066\n",
    "LS_A_results.loc['sigma', 'estimate'] = 500.0\n",
    "\n",
    "LS_A_results"
   ]
  },
  {
   "cell_type": "code",
   "execution_count": 7,
   "metadata": {
    "collapsed": false
   },
   "outputs": [
    {
     "data": {
      "text/html": [
       "<div style=\"max-height:1000px;max-width:1500px;overflow:auto;\">\n",
       "<table border=\"1\" class=\"dataframe\">\n",
       "  <thead>\n",
       "    <tr style=\"text-align: right;\">\n",
       "      <th></th>\n",
       "      <th>estimate</th>\n",
       "      <th>min</th>\n",
       "      <th>max</th>\n",
       "    </tr>\n",
       "  </thead>\n",
       "  <tbody>\n",
       "    <tr>\n",
       "      <th>r</th>\n",
       "      <td>   0.12</td>\n",
       "      <td>  NaN</td>\n",
       "      <td>  NaN</td>\n",
       "    </tr>\n",
       "    <tr>\n",
       "      <th>f</th>\n",
       "      <td>   0.35</td>\n",
       "      <td> 0.12</td>\n",
       "      <td> 0.63</td>\n",
       "    </tr>\n",
       "    <tr>\n",
       "      <th>sigma</th>\n",
       "      <td> 500.00</td>\n",
       "      <td>  NaN</td>\n",
       "      <td>  NaN</td>\n",
       "    </tr>\n",
       "  </tbody>\n",
       "</table>\n",
       "</div>"
      ],
      "text/plain": [
       "       estimate   min   max\n",
       "r          0.12   NaN   NaN\n",
       "f          0.35  0.12  0.63\n",
       "sigma    500.00   NaN   NaN"
      ]
     },
     "execution_count": 7,
     "metadata": {},
     "output_type": "execute_result"
    }
   ],
   "source": [
    "LS_2POP_results = pd.DataFrame()\n",
    "\n",
    "LS_2POP_results.loc['r', 'estimate'] = 0.12\n",
    "\n",
    "LS_2POP_results.loc['f', 'estimate'] = 0.35\n",
    "LS_2POP_results.loc['f', 'min'] = 0.12\n",
    "LS_2POP_results.loc['f', 'max'] = 0.63\n",
    "\n",
    "LS_2POP_results.loc['sigma', 'estimate'] = 500.0\n",
    "\n",
    "LS_2POP_results"
   ]
  },
  {
   "cell_type": "code",
   "execution_count": 8,
   "metadata": {
    "collapsed": false
   },
   "outputs": [],
   "source": [
    "for data in [ML_A_results, ML_2POP_results, LS_2POP_results]:\n",
    "    data['err_down'] = data['estimate'] - data['min']\n",
    "    data['err_up'] = - (data['estimate'] - data['max'])"
   ]
  },
  {
   "cell_type": "code",
   "execution_count": 70,
   "metadata": {
    "collapsed": true
   },
   "outputs": [],
   "source": [
    "ax2POPf.bar?"
   ]
  },
  {
   "cell_type": "code",
   "execution_count": 73,
   "metadata": {
    "collapsed": false
   },
   "outputs": [
    {
     "data": {
      "image/png": "[encoded data removed]",
      "text/plain": [
       "<matplotlib.figure.Figure at 0x7fe407065dd0>"
      ]
     },
     "metadata": {},
     "output_type": "display_data"
    }
   ],
   "source": [
    "fig = plt.figure()\n",
    "\n",
    "axAr =    plt.subplot2grid((1,16), (0,0), colspan = 5)\n",
    "ax2POPr_up = plt.subplot2grid((100,16), (0,6), colspan = 5, rowspan = 25)\n",
    "ax2POPr_down = plt.subplot2grid((100,16), (25,6), colspan = 5, rowspan = 75)\n",
    "ax2POPf = plt.subplot2grid((1,16), (0,11), colspan = 5)\n",
    "\n",
    "locations = sp.array([1, 2])\n",
    "labels = ['LS', 'ML']\n",
    "width = 0.8\n",
    "\n",
    "for axes in [axAr, ax2POPr_up, ax2POPr_down, ax2POPf]:\n",
    "    axes.set_xticks(locations + width / 2.0)\n",
    "    axes.set_xticklabels(labels, fontsize = 'x-large')\n",
    "    axes.set_xlim(width, 3)\n",
    "    continue\n",
    "\n",
    "plotargs = {'color': 'white',\n",
    "            'width': 0.8,\n",
    "            'ecolor': 'black'}\n",
    "\n",
    "axAr.set_title('A\\nturnover rate', fontsize = 'x-large')\n",
    "axAr.set_ylim(0.0, 0.008)\n",
    "axAr.set_yticks(sp.linspace(0, 0.008, 4, endpoint = False))\n",
    "axAr.bar(1, LS_A_results['estimate']['r'], **plotargs)\n",
    "axAr.bar(2, ML_A_results['estimate']['r'], hatch = '.', yerr = [[[ML_A_results['err_down']['r']]], [ML_A_results['err_up']['r']]], **plotargs)\n",
    "\n",
    "\n",
    "# ax2POPr.set_ylabel(\"$\\quad$\", fontsize = 'x-large')\n",
    "\n",
    "ax2POPr_up.set_title('2POP\\nturnover rate', fontsize = 'x-large')\n",
    "ax2POPr_up.set_ylim(3.65, 3.9)\n",
    "ax2POPr_up.set_yticks([3.7, 3.8])\n",
    "ax2POPr_up.spines['bottom'].set_visible(False)\n",
    "ax2POPr_up.xaxis.tick_top()\n",
    "ax2POPr_up.tick_params(labeltop='off')\n",
    "ax2POPr_up.bar(1, LS_2POP_results['estimate']['r'], **plotargs)\n",
    "ax2POPr_up.bar(2, ML_2POP_results['estimate']['r'], hatch = '.', yerr = [[ML_2POP_results['err_down']['r']], [ML_2POP_results['err_up']['r']]], **plotargs)\n",
    "\n",
    "\n",
    "ax2POPr_down.spines['top'].set_visible(False)\n",
    "ax2POPr_down.xaxis.tick_bottom()\n",
    "ax2POPr_down.set_ylim(0, 0.25)\n",
    "ax2POPr_down.set_yticks(sp.linspace(0, 0.25, 5, endpoint = False))\n",
    "ax2POPr_down.bar(1, LS_2POP_results['estimate']['r'], **plotargs)\n",
    "ax2POPr_down.bar(2, ML_2POP_results['estimate']['r'], hatch = '.', yerr = [[ML_2POP_results['err_down']['r']], [ML_2POP_results['err_up']['r']]], **plotargs)\n",
    "\n",
    "d = .05 # how big to make the diagonal lines in axes coordinates\n",
    "# arguments to pass plot, just so we don't keep repeating them\n",
    "kwargs = dict(transform=ax2POPr_up.transAxes, color='k', clip_on=False)\n",
    "ax2POPr_up.plot((-d,+d),(-d*0.75,d*0.75), **kwargs)      # top-left diagonal\n",
    "ax2POPr_up.plot((1-d,1+d),(-d*0.75,d*0.75), **kwargs)    # top-right diagonal\n",
    "\n",
    "kwargs.update(transform=ax2POPr_down.transAxes)  # switch to the bottom ax2POPr_up.s\n",
    "ax2POPr_down.plot((-d,+d),(1-d*0.25,1+d*0.25), **kwargs)   # bottom-left diagonal\n",
    "ax2POPr_down.plot((1-d,1+d),(1-d*0.25,1+d*0.25), **kwargs) # bottom-right diagonal\n",
    "\n",
    "ax2POPf.set_title('2POP\\nfraction renewing', fontsize = 'x-large')\n",
    "ax2POPf.set_ylim(0, 0.7)\n",
    "ax2POPf.set_yticks(sp.linspace(0, 0.7, 7, endpoint = False))\n",
    "ax2POPf.bar(1, LS_2POP_results['estimate']['f'], yerr = [[LS_2POP_results['err_down']['f']], [LS_2POP_results['err_up']['f']]], **plotargs)\n",
    "ax2POPf.bar(2, ML_2POP_results['estimate']['f'], hatch = '.', yerr = [[ML_2POP_results['err_down']['f']], [ML_2POP_results['err_up']['f']]], **plotargs)\n",
    "\n",
    "plt.tight_layout()\n",
    "\n",
    "plt.savefig('parameter_comparison_LS_ML.png', dpi = 300)\n",
    "\n",
    "plt.show()"
   ]
  },
  {
   "cell_type": "code",
   "execution_count": 118,
   "metadata": {
    "collapsed": true
   },
   "outputs": [],
   "source": [
    "plt.subplot2grid?"
   ]
  },
  {
   "cell_type": "code",
   "execution_count": null,
   "metadata": {
    "collapsed": true
   },
   "outputs": [],
   "source": []
  }
 ],
 "metadata": {
  "kernelspec": {
   "display_name": "Python 2",
   "language": "python",
   "name": "python2"
  },
  "language_info": {
   "codemirror_mode": {
    "name": "ipython",
    "version": 2
   },
   "file_extension": ".py",
   "mimetype": "text/x-python",
   "name": "python",
   "nbconvert_exporter": "python",
   "pygments_lexer": "ipython2",
   "version": "2.7.11"
  }
 },
 "nbformat": 4,
 "nbformat_minor": 0
}
