{
 "cells": [
  {
   "cell_type": "code",
   "execution_count": 1,
   "metadata": {
    "collapsed": false
   },
   "outputs": [
    {
     "name": "stderr",
     "output_type": "stream",
     "text": [
      "atm_c14_data.py:15: FutureWarning: sort(columns=....) is deprecated, use sort_values(by=.....)\n",
      "  c14_data = c14_data.sort('year')\n"
     ]
    }
   ],
   "source": [
    "import iminuit\n",
    "# import probfit\n",
    "import matplotlib\n",
    "import matplotlib.pyplot as plt\n",
    "%matplotlib inline\n",
    "import scipy as sp\n",
    "from scipy import optimize\n",
    "import cProfile, pstats, StringIO\n",
    "from multiprocessing import Pool\n",
    "import pandas as pd\n",
    "\n",
    "import atm_c14_data\n",
    "import c14_models\n",
    "import c14_individuals_data\n",
    "\n",
    "reload(atm_c14_data)\n",
    "reload(c14_models)\n",
    "reload(c14_individuals_data);"
   ]
  },
  {
   "cell_type": "code",
   "execution_count": 2,
   "metadata": {
    "collapsed": false
   },
   "outputs": [],
   "source": [
    "Klag = atm_c14_data.Klag\n",
    "K = atm_c14_data.K\n",
    "C = c14_models.C_scenario_A\n",
    "C2 = c14_models.C_scenario_2POP\n",
    "\n",
    "c14_i_data = c14_individuals_data.c14_neu\n",
    "\n",
    "c14_i_data_sigma = c14_i_data[ c14_i_data['Dbirth'] <= 1955.5 ]\n",
    "sigma_estimate = c14_i_data_sigma['d14C'].std()"
   ]
  },
  {
   "cell_type": "code",
   "execution_count": 20,
   "metadata": {
    "collapsed": false
   },
   "outputs": [],
   "source": [
    "def neg_loglike_2POP(r, f, sigma_const, sigma_rel):\n",
    "  loglike = 0\n",
    "  for i, dataset in c14_i_data.iterrows():\n",
    "    Dbirth = dataset['Dbirth']\n",
    "    Dcoll = dataset['Dcoll']\n",
    "    Cexp = dataset['d14C']\n",
    "    \n",
    "    sigma = sigma_const + sigma_rel * sp.absolute(C2(Dbirth, Dcoll, r, f))\n",
    "    \n",
    "    s1 = - 0.5 * (C2(Dbirth, Dcoll, r, f) - Cexp ) ** 2 / sigma ** 2\n",
    "    s2 = - sp.log(sigma * sp.sqrt(2 * sp.pi))\n",
    "    \n",
    "    loglike += s1 + s2\n",
    "  return -loglike"
   ]
  },
  {
   "cell_type": "code",
   "execution_count": 23,
   "metadata": {
    "collapsed": false
   },
   "outputs": [],
   "source": [
    "M_2POP_additive = iminuit.Minuit(neg_loglike_2POP, errordef = 0.5,\\\n",
    "                   r = 0.0066, error_r = 1e-3, limit_r = (0.0, None), fix_r = False,\\\n",
    "                   f=0.35, error_f=0.01, limit_f=(0.0, 1.0), fix_f = False,\\\n",
    "                   sigma_const = sigma_estimate, error_sigma_const = sigma_estimate / 10.0, limit_sigma_const = (0.0, None), fix_sigma_const = False,\\\n",
    "                   sigma_rel = 0.0, error_sigma_rel = 1.0, limit_sigma_rel = (0.0, None), fix_sigma_rel = True,\\\n",
    "                   print_level = 1)"
   ]
  },
  {
   "cell_type": "code",
   "execution_count": 26,
   "metadata": {
    "collapsed": false
   },
   "outputs": [
    {
     "data": {
      "text/html": [
       "<hr>"
      ]
     },
     "metadata": {},
     "output_type": "display_data"
    },
    {
     "data": {
      "text/html": [
       "\n",
       "        <table>\n",
       "            <tr>\n",
       "                <td title=\"Minimum value of function\">FCN = -115.222982341</td>\n",
       "                <td title=\"Total number of call to FCN so far\">TOTAL NCALL = 158</td>\n",
       "                <td title=\"Number of call in last migrad\">NCALLS = 158</td>\n",
       "            </tr>\n",
       "            <tr>\n",
       "                <td title=\"Estimated distance to minimum\">EDM = 2.83511476297e-06</td>\n",
       "                <td title=\"Maximum EDM definition of convergence\">GOAL EDM = 5e-06</td>\n",
       "                <td title=\"Error def. Amount of increase in FCN to be defined as 1 standard deviation\">\n",
       "                UP = 0.5</td>\n",
       "            </tr>\n",
       "        </table>\n",
       "        \n",
       "        <table>\n",
       "            <tr>\n",
       "                <td align=\"center\" title=\"Validity of the migrad call\">Valid</td>\n",
       "                <td align=\"center\" title=\"Validity of parameters\">Valid Param</td>\n",
       "                <td align=\"center\" title=\"Is Covariance matrix accurate?\">Accurate Covar</td>\n",
       "                <td align=\"center\" title=\"Positive definiteness of covariance matrix\">PosDef</td>\n",
       "                <td align=\"center\" title=\"Was covariance matrix made posdef by adding diagonal element\">Made PosDef</td>\n",
       "            </tr>\n",
       "            <tr>\n",
       "                <td align=\"center\" style=\"background-color:#92CCA6\">True</td>\n",
       "                <td align=\"center\" style=\"background-color:#92CCA6\">True</td>\n",
       "                <td align=\"center\" style=\"background-color:#92CCA6\">True</td>\n",
       "                <td align=\"center\" style=\"background-color:#92CCA6\">True</td>\n",
       "                <td align=\"center\" style=\"background-color:#92CCA6\">False</td>\n",
       "            </tr>\n",
       "            <tr>\n",
       "                <td align=\"center\" title=\"Was last hesse call fail?\">Hesse Fail</td>\n",
       "                <td align=\"center\" title=\"Validity of covariance\">HasCov</td>\n",
       "                <td align=\"center\" title=\"Is EDM above goal EDM?\">Above EDM</td>\n",
       "                <td align=\"center\"></td>\n",
       "                <td align=\"center\" title=\"Did last migrad call reach max call limit?\">Reach calllim</td>\n",
       "            </tr>\n",
       "            <tr>\n",
       "                <td align=\"center\" style=\"background-color:#92CCA6\">False</td>\n",
       "                <td align=\"center\" style=\"background-color:#92CCA6\">True</td>\n",
       "                <td align=\"center\" style=\"background-color:#92CCA6\">False</td>\n",
       "                <td align=\"center\"></td>\n",
       "                <td align=\"center\" style=\"background-color:#92CCA6\">False</td>\n",
       "            </tr>\n",
       "        </table>\n",
       "        "
      ]
     },
     "metadata": {},
     "output_type": "display_data"
    },
    {
     "data": {
      "text/html": [
       "\n",
       "        <table>\n",
       "            <tr>\n",
       "                <td><a href=\"#\" onclick=\"$('#nRWVHIweUA').toggle()\">+</a></td>\n",
       "                <td title=\"Variable name\">Name</td>\n",
       "                <td title=\"Value of parameter\">Value</td>\n",
       "                <td title=\"Parabolic error\">Parab Error</td>\n",
       "                <td title=\"Minos lower error\">Minos Error-</td>\n",
       "                <td title=\"Minos upper error\">Minos Error+</td>\n",
       "                <td title=\"Lower limit of the parameter\">Limit-</td>\n",
       "                <td title=\"Upper limit of the parameter\">Limit+</td>\n",
       "                <td title=\"Is the parameter fixed in the fit\">FIXED</td>\n",
       "            </tr>\n",
       "        \n",
       "            <tr>\n",
       "                <td>1</td>\n",
       "                <td>r</td>\n",
       "                <td>2.276185e-01</td>\n",
       "                <td>8.572852e-02</td>\n",
       "                <td>0.000000e+00</td>\n",
       "                <td>0.000000e+00</td>\n",
       "                <td>0.0</td>\n",
       "                <td></td>\n",
       "                <td></td>\n",
       "            </tr>\n",
       "            \n",
       "            <tr>\n",
       "                <td>2</td>\n",
       "                <td>f</td>\n",
       "                <td>3.409095e-01</td>\n",
       "                <td>1.775516e-02</td>\n",
       "                <td>0.000000e+00</td>\n",
       "                <td>0.000000e+00</td>\n",
       "                <td>0.0</td>\n",
       "                <td>1.0</td>\n",
       "                <td></td>\n",
       "            </tr>\n",
       "            \n",
       "            <tr>\n",
       "                <td>3</td>\n",
       "                <td>sigma_const</td>\n",
       "                <td>2.977945e-02</td>\n",
       "                <td>2.839055e-03</td>\n",
       "                <td>0.000000e+00</td>\n",
       "                <td>0.000000e+00</td>\n",
       "                <td>0.0</td>\n",
       "                <td></td>\n",
       "                <td></td>\n",
       "            </tr>\n",
       "            \n",
       "            <tr>\n",
       "                <td>4</td>\n",
       "                <td>sigma_rel</td>\n",
       "                <td>0.000000e+00</td>\n",
       "                <td>1.000000e+00</td>\n",
       "                <td>0.000000e+00</td>\n",
       "                <td>0.000000e+00</td>\n",
       "                <td>0.0</td>\n",
       "                <td></td>\n",
       "                <td>FIXED</td>\n",
       "            </tr>\n",
       "            \n",
       "            </table>\n",
       "        \n",
       "            <pre id=\"nRWVHIweUA\" style=\"display:none;\">\n",
       "            <textarea rows=\"14\" cols=\"50\" onclick=\"this.select()\" readonly>\\begin{tabular}{|c|r|r|r|r|r|r|r|c|}\n",
       "\\hline\n",
       " & Name & Value & Para Error & Error+ & Error- & Limit+ & Limit- & FIXED\\\\\n",
       "\\hline\n",
       "1 & r & 2.276e-01 & 8.573e-02 &  &  & 0.000e+00 & 0.000e+00 & \\\\\n",
       "\\hline\n",
       "2 & f & 3.409e-01 & 1.776e-02 &  &  & 0.000e+00 & 1.000e+00 & \\\\\n",
       "\\hline\n",
       "3 & $\\sigma_{const}$ & 2.978e-02 & 2.839e-03 &  &  & 0.000e+00 & 0.000e+00 & \\\\\n",
       "\\hline\n",
       "4 & $\\sigma_{rel}$ & 0.000e+00 & 1.000e+00 &  &  & 0.000e+00 & 0.000e+00 & FIXED\\\\\n",
       "\\hline\n",
       "\\end{tabular}</textarea>\n",
       "            </pre>\n",
       "            "
      ]
     },
     "metadata": {},
     "output_type": "display_data"
    },
    {
     "data": {
      "text/html": [
       "<hr>"
      ]
     },
     "metadata": {},
     "output_type": "display_data"
    },
    {
     "data": {
      "text/plain": [
       "({'hesse_failed': False, 'has_reached_call_limit': False, 'has_accurate_covar': True, 'has_posdef_covar': True, 'up': 0.5, 'edm': 2.835114762969939e-06, 'is_valid': True, 'is_above_max_edm': False, 'has_covariance': True, 'has_made_posdef_covar': False, 'has_valid_parameters': True, 'fval': -115.2229823408633, 'nfcn': 158},\n",
       " [{'is_const': False, 'name': 'r', 'has_limits': True, 'value': 0.22761848073169277, 'number': 0, 'has_lower_limit': True, 'upper_limit': 0.0, 'lower_limit': 0.0, 'has_upper_limit': False, 'error': 0.0857285214716823, 'is_fixed': False},\n",
       "  {'is_const': False, 'name': 'f', 'has_limits': True, 'value': 0.34090945738424416, 'number': 1, 'has_lower_limit': True, 'upper_limit': 1.0, 'lower_limit': 0.0, 'has_upper_limit': True, 'error': 0.01775516239510544, 'is_fixed': False},\n",
       "  {'is_const': False, 'name': 'sigma_const', 'has_limits': True, 'value': 0.029779446199261317, 'number': 2, 'has_lower_limit': True, 'upper_limit': 0.0, 'lower_limit': 0.0, 'has_upper_limit': False, 'error': 0.0028390553962797105, 'is_fixed': False},\n",
       "  {'is_const': False, 'name': 'sigma_rel', 'has_limits': True, 'value': 0.0, 'number': 3, 'has_lower_limit': True, 'upper_limit': 0.0, 'lower_limit': 0.0, 'has_upper_limit': False, 'error': 1.0, 'is_fixed': True}])"
      ]
     },
     "execution_count": 26,
     "metadata": {},
     "output_type": "execute_result"
    }
   ],
   "source": [
    "M_2POP_additive.migrad()"
   ]
  },
  {
   "cell_type": "code",
   "execution_count": 28,
   "metadata": {
    "collapsed": false
   },
   "outputs": [],
   "source": [
    "M_2POP_multi = iminuit.Minuit(neg_loglike_2POP, errordef = 0.5,\\\n",
    "                   r = 0.0066, error_r = 1e-3, limit_r = (0.0, None), fix_r = False,\\\n",
    "                   f=0.35, error_f=0.01, limit_f=(0.0, 1.0), fix_f = False,\\\n",
    "                   sigma_const = 0.0, error_sigma_const = sigma_estimate / 10.0, limit_sigma_const = (0.0, None), fix_sigma_const = True,\\\n",
    "                   sigma_rel = 0.001, error_sigma_rel = 0.0001, limit_sigma_rel = (0.0, None), fix_sigma_rel = False,\\\n",
    "                   print_level = 1)"
   ]
  },
  {
   "cell_type": "code",
   "execution_count": 29,
   "metadata": {
    "collapsed": false
   },
   "outputs": [
    {
     "data": {
      "text/html": [
       "<hr>"
      ]
     },
     "metadata": {},
     "output_type": "display_data"
    },
    {
     "data": {
      "text/html": [
       "\n",
       "        <table>\n",
       "            <tr>\n",
       "                <td title=\"Minimum value of function\">FCN = -93.6531553775</td>\n",
       "                <td title=\"Total number of call to FCN so far\">TOTAL NCALL = 536</td>\n",
       "                <td title=\"Number of call in last migrad\">NCALLS = 536</td>\n",
       "            </tr>\n",
       "            <tr>\n",
       "                <td title=\"Estimated distance to minimum\">EDM = 2.94879792827e-06</td>\n",
       "                <td title=\"Maximum EDM definition of convergence\">GOAL EDM = 5e-06</td>\n",
       "                <td title=\"Error def. Amount of increase in FCN to be defined as 1 standard deviation\">\n",
       "                UP = 0.5</td>\n",
       "            </tr>\n",
       "        </table>\n",
       "        \n",
       "        <table>\n",
       "            <tr>\n",
       "                <td align=\"center\" title=\"Validity of the migrad call\">Valid</td>\n",
       "                <td align=\"center\" title=\"Validity of parameters\">Valid Param</td>\n",
       "                <td align=\"center\" title=\"Is Covariance matrix accurate?\">Accurate Covar</td>\n",
       "                <td align=\"center\" title=\"Positive definiteness of covariance matrix\">PosDef</td>\n",
       "                <td align=\"center\" title=\"Was covariance matrix made posdef by adding diagonal element\">Made PosDef</td>\n",
       "            </tr>\n",
       "            <tr>\n",
       "                <td align=\"center\" style=\"background-color:#92CCA6\">True</td>\n",
       "                <td align=\"center\" style=\"background-color:#92CCA6\">True</td>\n",
       "                <td align=\"center\" style=\"background-color:#92CCA6\">True</td>\n",
       "                <td align=\"center\" style=\"background-color:#92CCA6\">True</td>\n",
       "                <td align=\"center\" style=\"background-color:#92CCA6\">False</td>\n",
       "            </tr>\n",
       "            <tr>\n",
       "                <td align=\"center\" title=\"Was last hesse call fail?\">Hesse Fail</td>\n",
       "                <td align=\"center\" title=\"Validity of covariance\">HasCov</td>\n",
       "                <td align=\"center\" title=\"Is EDM above goal EDM?\">Above EDM</td>\n",
       "                <td align=\"center\"></td>\n",
       "                <td align=\"center\" title=\"Did last migrad call reach max call limit?\">Reach calllim</td>\n",
       "            </tr>\n",
       "            <tr>\n",
       "                <td align=\"center\" style=\"background-color:#92CCA6\">False</td>\n",
       "                <td align=\"center\" style=\"background-color:#92CCA6\">True</td>\n",
       "                <td align=\"center\" style=\"background-color:#92CCA6\">False</td>\n",
       "                <td align=\"center\"></td>\n",
       "                <td align=\"center\" style=\"background-color:#92CCA6\">False</td>\n",
       "            </tr>\n",
       "        </table>\n",
       "        "
      ]
     },
     "metadata": {},
     "output_type": "display_data"
    },
    {
     "data": {
      "text/html": [
       "\n",
       "        <table>\n",
       "            <tr>\n",
       "                <td><a href=\"#\" onclick=\"$('#dpGLihgTwi').toggle()\">+</a></td>\n",
       "                <td title=\"Variable name\">Name</td>\n",
       "                <td title=\"Value of parameter\">Value</td>\n",
       "                <td title=\"Parabolic error\">Parab Error</td>\n",
       "                <td title=\"Minos lower error\">Minos Error-</td>\n",
       "                <td title=\"Minos upper error\">Minos Error+</td>\n",
       "                <td title=\"Lower limit of the parameter\">Limit-</td>\n",
       "                <td title=\"Upper limit of the parameter\">Limit+</td>\n",
       "                <td title=\"Is the parameter fixed in the fit\">FIXED</td>\n",
       "            </tr>\n",
       "        \n",
       "            <tr>\n",
       "                <td>1</td>\n",
       "                <td>r</td>\n",
       "                <td>1.433761e-02</td>\n",
       "                <td>2.474264e-04</td>\n",
       "                <td>0.000000e+00</td>\n",
       "                <td>0.000000e+00</td>\n",
       "                <td>0.0</td>\n",
       "                <td></td>\n",
       "                <td></td>\n",
       "            </tr>\n",
       "            \n",
       "            <tr>\n",
       "                <td>2</td>\n",
       "                <td>f</td>\n",
       "                <td>3.468212e-01</td>\n",
       "                <td>2.367775e-02</td>\n",
       "                <td>0.000000e+00</td>\n",
       "                <td>0.000000e+00</td>\n",
       "                <td>0.0</td>\n",
       "                <td>1.0</td>\n",
       "                <td></td>\n",
       "            </tr>\n",
       "            \n",
       "            <tr>\n",
       "                <td>3</td>\n",
       "                <td>sigma_const</td>\n",
       "                <td>0.000000e+00</td>\n",
       "                <td>2.451849e-03</td>\n",
       "                <td>0.000000e+00</td>\n",
       "                <td>0.000000e+00</td>\n",
       "                <td>0.0</td>\n",
       "                <td></td>\n",
       "                <td>FIXED</td>\n",
       "            </tr>\n",
       "            \n",
       "            <tr>\n",
       "                <td>4</td>\n",
       "                <td>sigma_rel</td>\n",
       "                <td>7.486208e-01</td>\n",
       "                <td>9.182117e-02</td>\n",
       "                <td>0.000000e+00</td>\n",
       "                <td>0.000000e+00</td>\n",
       "                <td>0.0</td>\n",
       "                <td></td>\n",
       "                <td></td>\n",
       "            </tr>\n",
       "            \n",
       "            </table>\n",
       "        \n",
       "            <pre id=\"dpGLihgTwi\" style=\"display:none;\">\n",
       "            <textarea rows=\"14\" cols=\"50\" onclick=\"this.select()\" readonly>\\begin{tabular}{|c|r|r|r|r|r|r|r|c|}\n",
       "\\hline\n",
       " & Name & Value & Para Error & Error+ & Error- & Limit+ & Limit- & FIXED\\\\\n",
       "\\hline\n",
       "1 & r & 1.434e-02 & 2.474e-04 &  &  & 0.000e+00 & 0.000e+00 & \\\\\n",
       "\\hline\n",
       "2 & f & 3.468e-01 & 2.368e-02 &  &  & 0.000e+00 & 1.000e+00 & \\\\\n",
       "\\hline\n",
       "3 & $\\sigma_{const}$ & 0.000e+00 & 2.452e-03 &  &  & 0.000e+00 & 0.000e+00 & FIXED\\\\\n",
       "\\hline\n",
       "4 & $\\sigma_{rel}$ & 7.486e-01 & 9.182e-02 &  &  & 0.000e+00 & 0.000e+00 & \\\\\n",
       "\\hline\n",
       "\\end{tabular}</textarea>\n",
       "            </pre>\n",
       "            "
      ]
     },
     "metadata": {},
     "output_type": "display_data"
    },
    {
     "data": {
      "text/html": [
       "<hr>"
      ]
     },
     "metadata": {},
     "output_type": "display_data"
    }
   ],
   "source": [
    "M_2POP_multi.migrad();"
   ]
  },
  {
   "cell_type": "code",
   "execution_count": 10,
   "metadata": {
    "collapsed": false
   },
   "outputs": [
    {
     "name": "stdout",
     "output_type": "stream",
     "text": [
      "r: 0.2276\n",
      "f: 0.34\n"
     ]
    }
   ],
   "source": [
    "print 'r: {0:.4f}'.format(M.values['r'])\n",
    "print 'f: {0:.2f}'.format(M.values['f'])"
   ]
  },
  {
   "cell_type": "code",
   "execution_count": 21,
   "metadata": {
    "collapsed": false
   },
   "outputs": [
    {
     "data": {
      "image/png": "[encoded data removed]",
      "text/plain": [
       "<matplotlib.figure.Figure at 0x7f7a4c105e50>"
      ]
     },
     "metadata": {},
     "output_type": "display_data"
    }
   ],
   "source": [
    "import matplotlib\n",
    "matplotlib.rcParams.update({'font.size': 13})\n",
    "matplotlib.rcParams.update({'xtick.labelsize': 'large'})\n",
    "matplotlib.rcParams.update({'ytick.labelsize': 'large'})\n",
    "\n",
    "f, ax = plt.subplots(1, 1)\n",
    "f.set_figwidth(14)\n",
    "f.set_figheight(7)\n",
    "\n",
    "time = sp.linspace(1910.0, 2015.0, 1000)\n",
    "ax.plot(time, K(time), label = 'atmosphere', lw = 3, color = 'black')\n",
    "ax.scatter(c14_i_data['Dbirth'], c14_i_data['d14C'], color = 'black', label = 'neuronal DNA', s = 60)\n",
    "ax.errorbar(c14_i_data['Dbirth'], \\\n",
    "           sp.vectorize(C2)(c14_i_data['Dbirth'], c14_i_data['Dcoll'], M.values['r'], M.values['f']),\\\n",
    "            M.values['sigma_const'],\n",
    "           color = 'red', label = '2POP', marker='^', ls = '', ms = 10)\n",
    "\n",
    "ax.set_xlim((1909, 2011))\n",
    "ax.set_ylim(-0.1, 0.9)\n",
    "ax.set_xticks(sp.linspace(1910, 2010, 6), minor = 1)\n",
    "ax.grid(which='both')\n",
    "ax.legend(loc='best', fontsize = 'large', frameon = True, framealpha = 1.0)\n",
    "\n",
    "ax.set_xlabel('calendar year', fontsize = 'xx-large')\n",
    "ax.set_ylabel('$\\Delta^{14}$C', fontsize = 'xx-large')\n",
    "\n",
    "\n",
    "plt.savefig('fit_2POP_neu.png', dpi = 300, bbox_inches='tight', transparent = True)\n",
    "plt.show()"
   ]
  },
  {
   "cell_type": "code",
   "execution_count": 34,
   "metadata": {
    "collapsed": false
   },
   "outputs": [
    {
     "data": {
      "text/plain": [
       "{'f': {'lower_new_min': False, 'upper': 0.16062373645414, 'lower': -0.16053689944319463, 'at_lower_limit': False, 'min': 0.3408985219317755, 'at_lower_max_fcn': False, 'is_valid': True, 'upper_new_min': False, 'at_upper_limit': False, 'lower_valid': True, 'upper_valid': True, 'at_upper_max_fcn': False, 'nfcn': 357L},\n",
       " 'sigma_const': {'lower_new_min': False, 'upper': 0.041016195294729926, 'lower': -0.012623517040189587, 'at_lower_limit': False, 'min': 0.029777065169439565, 'at_lower_max_fcn': False, 'is_valid': True, 'upper_new_min': False, 'at_upper_limit': False, 'lower_valid': True, 'upper_valid': True, 'at_upper_max_fcn': False, 'nfcn': 310L}}"
      ]
     },
     "execution_count": 34,
     "metadata": {},
     "output_type": "execute_result"
    }
   ],
   "source": [
    "M.get_merrors()"
   ]
  },
  {
   "cell_type": "code",
   "execution_count": 9,
   "metadata": {
    "collapsed": false
   },
   "outputs": [
    {
     "name": "stdout",
     "output_type": "stream",
     "text": [
      "Minos 95%\n"
     ]
    },
    {
     "data": {
      "text/html": [
       "\n",
       "        <span>Minos status for f: <span style=\"background-color:#92CCA6\">VALID</span></span>\n",
       "        <table>\n",
       "            <tr>\n",
       "                <td title=\"lower and upper minos error of the parameter\">Error</td>\n",
       "                <td>-0.0348254794337</td>\n",
       "                <td>0.0347938577006</td>\n",
       "            </tr>\n",
       "            <tr>\n",
       "                <td title=\"Validity of minos error\">Valid</td>\n",
       "                <td style=\"background-color:#92CCA6\">True</td>\n",
       "                <td style=\"background-color:#92CCA6\">True</td>\n",
       "            </tr>\n",
       "            <tr>\n",
       "                <td title=\"Did minos error search hit limit of any paramter?\">At Limit</td>\n",
       "                <td style=\"background-color:#92CCA6\">False</td>\n",
       "                <td style=\"background-color:#92CCA6\">False</td>\n",
       "            </tr>\n",
       "            <tr>\n",
       "                <td title=\"I don't really know what this one means... Post it in issue if you know\">Max FCN</td>\n",
       "                <td style=\"background-color:#92CCA6\">False</td>\n",
       "                <td style=\"background-color:#92CCA6\">False</td>\n",
       "            </tr>\n",
       "            <tr>\n",
       "                <td title=\"New minimum found when doing minos scan.\">New Min</td>\n",
       "                <td style=\"background-color:#92CCA6\">False</td>\n",
       "                <td style=\"background-color:#92CCA6\">False</td>\n",
       "            </tr>\n",
       "        </table>\n",
       "        "
      ]
     },
     "metadata": {},
     "output_type": "display_data"
    },
    {
     "data": {
      "text/html": [
       "\n",
       "        <span>Minos status for sigma_const: <span style=\"background-color:#92CCA6\">VALID</span></span>\n",
       "        <table>\n",
       "            <tr>\n",
       "                <td title=\"lower and upper minos error of the parameter\">Error</td>\n",
       "                <td>-0.00471957407167</td>\n",
       "                <td>0.00641122051449</td>\n",
       "            </tr>\n",
       "            <tr>\n",
       "                <td title=\"Validity of minos error\">Valid</td>\n",
       "                <td style=\"background-color:#92CCA6\">True</td>\n",
       "                <td style=\"background-color:#92CCA6\">True</td>\n",
       "            </tr>\n",
       "            <tr>\n",
       "                <td title=\"Did minos error search hit limit of any paramter?\">At Limit</td>\n",
       "                <td style=\"background-color:#92CCA6\">False</td>\n",
       "                <td style=\"background-color:#92CCA6\">False</td>\n",
       "            </tr>\n",
       "            <tr>\n",
       "                <td title=\"I don't really know what this one means... Post it in issue if you know\">Max FCN</td>\n",
       "                <td style=\"background-color:#92CCA6\">False</td>\n",
       "                <td style=\"background-color:#92CCA6\">False</td>\n",
       "            </tr>\n",
       "            <tr>\n",
       "                <td title=\"New minimum found when doing minos scan.\">New Min</td>\n",
       "                <td style=\"background-color:#92CCA6\">False</td>\n",
       "                <td style=\"background-color:#92CCA6\">False</td>\n",
       "            </tr>\n",
       "        </table>\n",
       "        "
      ]
     },
     "metadata": {},
     "output_type": "display_data"
    }
   ],
   "source": [
    "# minos\n",
    "print 'Minos 95%'\n",
    "M.minos(var='f', sigma = 1.92);\n",
    "M.minos(var='sigma_const', sigma = 1.92);"
   ]
  },
  {
   "cell_type": "code",
   "execution_count": 10,
   "metadata": {
    "collapsed": false
   },
   "outputs": [],
   "source": [
    "# minos profiles\n",
    "#rprofile = M.draw_mnprofile('r', bins=160, bound = (0.1, 20.0), subtract_min = True)\n",
    "\n",
    "rs = sp.sort(sp.hstack((sp.linspace(0.1, 10, 50), M.values['r'], 0.15)))\n",
    "f_initial = M.values['f']\n",
    "sigma_initial = M.values['sigma_const']\n",
    "def fit_fix_r(r):\n",
    "  M = iminuit.Minuit(neg_loglike, errordef = 0.5,\\\n",
    "                   r = r, error_r = 1e-3, limit_r = (0.0, None), fix_r = True,\\\n",
    "                   f=0.35, error_f=0.01, limit_f=(0.0, 1.0), fix_f = False,\\\n",
    "                   sigma_const = sigma_const_initial, error_sigma_const = sigma_const_initial / 10.0, limit_sigma_const = (0.0, None), fix_sigma_const = False,\\\n",
    "                   sigma_rel = sigma_rel_initial, error_sigma_rel = sigma_rel_initial / 10.0, limit_sigma_rel = (0.0, None), fix_sigma_rel = True,\\\n",
    "                   print_level = 0)\n",
    "  M.migrad()\n",
    "  if M.migrad_ok():\n",
    "    return M.fval\n",
    "  else:\n",
    "    return sp.nan\n",
    "\n",
    "pool = Pool(processes=7) \n",
    "neglogL = sp.array(pool.map(fit_fix_r, rs))"
   ]
  },
  {
   "cell_type": "code",
   "execution_count": 11,
   "metadata": {
    "collapsed": false
   },
   "outputs": [
    {
     "data": {
      "image/png": "[encoded data removed]",
      "text/plain": [
       "<matplotlib.figure.Figure at 0x7f05ac660fd0>"
      ]
     },
     "metadata": {},
     "output_type": "display_data"
    }
   ],
   "source": [
    "# matplotlib.rcParams['font.size'] = 12\n",
    "\n",
    "plt.xlim(0, 10)\n",
    "plt.ylim(0, 2.5)\n",
    "\n",
    "plt.xlabel('turnover rate, $r$ $(\\mathrm{year}^{-1})$', fontsize = 'x-large')\n",
    "plt.ylabel('$\\Delta \\ln L$', fontsize = 'x-large')\n",
    "\n",
    "plt.grid()\n",
    "\n",
    "plt.plot(rs, neglogL-M.fval, 'black', lw = 3)\n",
    "plt.plot([0, 10], [1.92, 1.92], 'k--', lw = 2)\n",
    "\n",
    "plt.savefig('rprofile.png', dpi = 300, bbox_inches = 'tight', transparent=True)\n",
    "\n",
    "plt.show()"
   ]
  },
  {
   "cell_type": "markdown",
   "metadata": {},
   "source": [
    "Now find the minos errors"
   ]
  },
  {
   "cell_type": "code",
   "execution_count": 12,
   "metadata": {
    "collapsed": false
   },
   "outputs": [],
   "source": [
    "f = sp.interpolate.interp1d(rs, neglogL - neglogL.min() - 1.92) "
   ]
  },
  {
   "cell_type": "code",
   "execution_count": 13,
   "metadata": {
    "collapsed": false
   },
   "outputs": [
    {
     "name": "stdout",
     "output_type": "stream",
     "text": [
      "r:\n",
      "0.23 (95\\% CI [0.14, 3.83])\n"
     ]
    }
   ],
   "source": [
    "from scipy import optimize\n",
    "rmin = sp.optimize.root(f, 0.1, method='lm')['x'].item()\n",
    "rmax = sp.optimize.root(f, 2, method='lm')['x'].item()\n",
    "\n",
    "print 'r:'\n",
    "print '{0:.2f} (95\\% CI [{1:.2f}, {2:.2f}])'.format(M.values['r'], rmin, rmax)\n"
   ]
  },
  {
   "cell_type": "code",
   "execution_count": 14,
   "metadata": {
    "collapsed": false
   },
   "outputs": [
    {
     "name": "stdout",
     "output_type": "stream",
     "text": [
      "r:\n",
      "0.23 (95\\% CI [0.14, 3.83])\n",
      "f:\n",
      "0.34 (95\\% CI [0.31, 0.38])\n",
      "\\sigma (pro mille):\n",
      "30\\permil (95\\% CI [25\\permil, 36\\permil])\n"
     ]
    }
   ],
   "source": [
    "r = M.values['r']\n",
    "\n",
    "f = M.values['f']\n",
    "fmin = f + M.get_merrors()['f']['lower']\n",
    "fmax = f + M.get_merrors()['f']['upper']\n",
    "\n",
    "sigma_const = M.values['sigma_const']\n",
    "sigma_constmin = sigma_const + M.get_merrors()['sigma_const']['lower']\n",
    "sigma_constmax = sigma_const + M.get_merrors()['sigma_const']['upper']\n",
    "\n",
    "print 'r:'\n",
    "print '{0:.2f} (95\\% CI [{1:.2f}, {2:.2f}])'.format(r, rmin, rmax)\n",
    "\n",
    "print 'f:'\n",
    "print '{0:.2f} (95\\% CI [{1:.2f}, {2:.2f}])'.format(f, fmin, fmax)\n",
    "\n",
    "print '\\sigma (pro mille):'\n",
    "print '{0:.0f}\\permil (95\\% CI [{1:.0f}\\permil, {2:.0f}\\permil])'.format(1e3 * sigma_const, 1e3 * sigma_constmin, 1e3 * sigma_constmax)"
   ]
  },
  {
   "cell_type": "code",
   "execution_count": 18,
   "metadata": {
    "collapsed": false
   },
   "outputs": [
    {
     "data": {
      "text/html": [
       "<div style=\"max-height:1000px;max-width:1500px;overflow:auto;\">\n",
       "<table border=\"1\" class=\"dataframe\">\n",
       "  <thead>\n",
       "    <tr style=\"text-align: right;\">\n",
       "      <th></th>\n",
       "      <th>estimate</th>\n",
       "      <th>min</th>\n",
       "      <th>max</th>\n",
       "    </tr>\n",
       "  </thead>\n",
       "  <tbody>\n",
       "    <tr>\n",
       "      <th>r</th>\n",
       "      <td> 0.227625</td>\n",
       "      <td> 0.136061</td>\n",
       "      <td> 3.832547</td>\n",
       "    </tr>\n",
       "    <tr>\n",
       "      <th>f</th>\n",
       "      <td> 0.340934</td>\n",
       "      <td> 0.306108</td>\n",
       "      <td> 0.375728</td>\n",
       "    </tr>\n",
       "    <tr>\n",
       "      <th>sigma</th>\n",
       "      <td> 0.029781</td>\n",
       "      <td> 0.025061</td>\n",
       "      <td> 0.036192</td>\n",
       "    </tr>\n",
       "  </tbody>\n",
       "</table>\n",
       "</div>"
      ],
      "text/plain": [
       "       estimate       min       max\n",
       "r      0.227625  0.136061  3.832547\n",
       "f      0.340934  0.306108  0.375728\n",
       "sigma  0.029781  0.025061  0.036192"
      ]
     },
     "execution_count": 18,
     "metadata": {},
     "output_type": "execute_result"
    }
   ],
   "source": [
    "ML_2POP_results = pd.DataFrame()\n",
    "\n",
    "ML_2POP_results.loc['r', 'estimate'] = r\n",
    "ML_2POP_results.loc['r', 'min'] = rmin\n",
    "ML_2POP_results.loc['r', 'max'] = rmax\n",
    "\n",
    "ML_2POP_results.loc['f', 'estimate'] = f\n",
    "ML_2POP_results.loc['f', 'min'] = fmin\n",
    "ML_2POP_results.loc['f', 'max'] = fmax\n",
    "\n",
    "ML_2POP_results.loc['sigma', 'estimate'] = sigma_const\n",
    "ML_2POP_results.loc['sigma', 'min'] = sigma_constmin\n",
    "ML_2POP_results.loc['sigma', 'max'] = sigma_constmax\n",
    "\n",
    "ML_2POP_results.to_pickle('ML_2POP_results.pkl')\n",
    "ML_2POP_results"
   ]
  },
  {
   "cell_type": "code",
   "execution_count": null,
   "metadata": {
    "collapsed": false
   },
   "outputs": [],
   "source": [
    "### parameter profiles\n",
    "\n",
    "#print 'Drawing Profiles (no Minis Profiles!!!)'\n",
    "#M.draw_profile('r', bins=20, bound = (0.1, 0.9), subtract_min = True)\n",
    "#plt.show()\n",
    "#M.draw_profile('f', bins=10, bound = (0.28, 0.4), subtract_min = True)\n",
    "#plt.show()\n",
    "#M.draw_profile('sigma_const', bins=10, bound = 2, subtract_min = True)\n",
    "#plt.show()\n",
    "#M.draw_profile('sigma_rel', bins=10, bound = 2, subtract_min = True)\n",
    "#plt.show()"
   ]
  },
  {
   "cell_type": "code",
   "execution_count": 37,
   "metadata": {
    "collapsed": false
   },
   "outputs": [
    {
     "name": "stderr",
     "output_type": "stream",
     "text": [
      "/home/fabian/anaconda/lib/python2.7/site-packages/iminuit/_plotting.py:87: RuntimeWarning: Fail mncontour for r, f, sigma=0.100000\n",
      "  warnings.warn(RuntimeWarning('Fail mncontour for %s, %s, sigma=%f'%(x,y,this_sig)))\n",
      "/home/fabian/anaconda/lib/python2.7/site-packages/iminuit/_plotting.py:85: RuntimeWarning: fcn returns Nan\n",
      "fcn is called with following arguments:\n",
      "              r = +nan\n",
      "              f = +0.332023\n",
      "    sigma_const = +0.030051\n",
      "      sigma_rel = +0.000000\n",
      "\n",
      "  sigma=this_sig)\n",
      "/home/fabian/anaconda/lib/python2.7/site-packages/iminuit/_plotting.py:85: RuntimeWarning: fcn returns Nan\n",
      "fcn is called with following arguments:\n",
      "              r = -nan\n",
      "              f = +0.332023\n",
      "    sigma_const = -nan\n",
      "      sigma_rel = +0.000000\n",
      "\n",
      "  sigma=this_sig)\n",
      "/home/fabian/anaconda/lib/python2.7/site-packages/iminuit/_plotting.py:85: RuntimeWarning: fcn returns Nan\n",
      "fcn is called with following arguments:\n",
      "              r = +nan\n",
      "              f = +0.333245\n",
      "    sigma_const = +0.030051\n",
      "      sigma_rel = +0.000000\n",
      "\n",
      "  sigma=this_sig)\n",
      "/home/fabian/anaconda/lib/python2.7/site-packages/iminuit/_plotting.py:85: RuntimeWarning: fcn returns Nan\n",
      "fcn is called with following arguments:\n",
      "              r = -nan\n",
      "              f = +0.333245\n",
      "    sigma_const = -nan\n",
      "      sigma_rel = +0.000000\n",
      "\n",
      "  sigma=this_sig)\n",
      "/home/fabian/anaconda/lib/python2.7/site-packages/iminuit/_plotting.py:85: RuntimeWarning: fcn returns Nan\n",
      "fcn is called with following arguments:\n",
      "              r = +nan\n",
      "              f = +0.333999\n",
      "    sigma_const = +0.030051\n",
      "      sigma_rel = +0.000000\n",
      "\n",
      "  sigma=this_sig)\n",
      "/home/fabian/anaconda/lib/python2.7/site-packages/iminuit/_plotting.py:85: RuntimeWarning: fcn returns Nan\n",
      "fcn is called with following arguments:\n",
      "              r = -nan\n",
      "              f = +0.333999\n",
      "    sigma_const = -nan\n",
      "      sigma_rel = +0.000000\n",
      "\n",
      "  sigma=this_sig)\n",
      "/home/fabian/anaconda/lib/python2.7/site-packages/iminuit/_plotting.py:87: RuntimeWarning: Fail mncontour for r, f, sigma=0.393333\n",
      "  warnings.warn(RuntimeWarning('Fail mncontour for %s, %s, sigma=%f'%(x,y,this_sig)))\n",
      "/home/fabian/anaconda/lib/python2.7/site-packages/iminuit/_plotting.py:87: RuntimeWarning: Fail mncontour for r, f, sigma=2.153333\n",
      "  warnings.warn(RuntimeWarning('Fail mncontour for %s, %s, sigma=%f'%(x,y,this_sig)))\n",
      "/home/fabian/anaconda/lib/python2.7/site-packages/iminuit/_plotting.py:87: RuntimeWarning: Fail mncontour for r, f, sigma=2.446667\n",
      "  warnings.warn(RuntimeWarning('Fail mncontour for %s, %s, sigma=%f'%(x,y,this_sig)))\n",
      "/home/fabian/anaconda/lib/python2.7/site-packages/iminuit/_plotting.py:87: RuntimeWarning: Fail mncontour for r, f, sigma=2.740000\n",
      "  warnings.warn(RuntimeWarning('Fail mncontour for %s, %s, sigma=%f'%(x,y,this_sig)))\n",
      "/home/fabian/anaconda/lib/python2.7/site-packages/iminuit/_plotting.py:87: RuntimeWarning: Fail mncontour for r, f, sigma=3.033333\n",
      "  warnings.warn(RuntimeWarning('Fail mncontour for %s, %s, sigma=%f'%(x,y,this_sig)))\n",
      "/home/fabian/anaconda/lib/python2.7/site-packages/iminuit/_plotting.py:87: RuntimeWarning: Fail mncontour for r, f, sigma=3.326667\n",
      "  warnings.warn(RuntimeWarning('Fail mncontour for %s, %s, sigma=%f'%(x,y,this_sig)))\n",
      "/home/fabian/anaconda/lib/python2.7/site-packages/iminuit/_plotting.py:87: RuntimeWarning: Fail mncontour for r, f, sigma=3.620000\n",
      "  warnings.warn(RuntimeWarning('Fail mncontour for %s, %s, sigma=%f'%(x,y,this_sig)))\n",
      "/home/fabian/anaconda/lib/python2.7/site-packages/iminuit/_plotting.py:87: RuntimeWarning: Fail mncontour for r, f, sigma=3.913333\n",
      "  warnings.warn(RuntimeWarning('Fail mncontour for %s, %s, sigma=%f'%(x,y,this_sig)))\n",
      "/home/fabian/anaconda/lib/python2.7/site-packages/iminuit/_plotting.py:87: RuntimeWarning: Fail mncontour for r, f, sigma=4.206667\n",
      "  warnings.warn(RuntimeWarning('Fail mncontour for %s, %s, sigma=%f'%(x,y,this_sig)))\n",
      "/home/fabian/anaconda/lib/python2.7/site-packages/iminuit/_plotting.py:87: RuntimeWarning: Fail mncontour for r, f, sigma=4.500000\n",
      "  warnings.warn(RuntimeWarning('Fail mncontour for %s, %s, sigma=%f'%(x,y,this_sig)))\n"
     ]
    },
    {
     "ename": "RuntimeError",
     "evalue": "To use interp='nn' (Natural Neighbor interpolation) in griddata, natgrid must be installed.  Either install it from http://sourceforge.net/projects/matplotlib/files/matplotlib-toolkits, or use interp='linear' instead.",
     "output_type": "error",
     "traceback": [
      "\u001b[1;31m---------------------------------------------------------------------------\u001b[0m\n\u001b[1;31mRuntimeError\u001b[0m                              Traceback (most recent call last)",
      "\u001b[1;32m<ipython-input-37-73cc0186ea1c>\u001b[0m in \u001b[0;36m<module>\u001b[1;34m()\u001b[0m\n\u001b[0;32m      4\u001b[0m \u001b[1;33m\u001b[0m\u001b[0m\n\u001b[0;32m      5\u001b[0m \u001b[1;31m# contour plot\u001b[0m\u001b[1;33m\u001b[0m\u001b[1;33m\u001b[0m\u001b[0m\n\u001b[1;32m----> 6\u001b[1;33m \u001b[0mx\u001b[0m\u001b[1;33m,\u001b[0m \u001b[0my\u001b[0m\u001b[1;33m,\u001b[0m \u001b[0mg\u001b[0m\u001b[1;33m,\u001b[0m \u001b[0mr\u001b[0m \u001b[1;33m=\u001b[0m \u001b[0mM\u001b[0m\u001b[1;33m.\u001b[0m\u001b[0mmncontour_grid\u001b[0m\u001b[1;33m(\u001b[0m\u001b[1;34m'r'\u001b[0m\u001b[1;33m,\u001b[0m\u001b[1;34m'f'\u001b[0m\u001b[1;33m,\u001b[0m \u001b[0mbins\u001b[0m \u001b[1;33m=\u001b[0m \u001b[1;36m50\u001b[0m\u001b[1;33m,\u001b[0m \u001b[0mnsigma\u001b[0m\u001b[1;33m=\u001b[0m\u001b[1;36m4\u001b[0m\u001b[1;33m,\u001b[0m \u001b[0mnumpoints\u001b[0m \u001b[1;33m=\u001b[0m \u001b[1;36m20\u001b[0m\u001b[1;33m,\u001b[0m \u001b[0msigma_res\u001b[0m \u001b[1;33m=\u001b[0m \u001b[1;36m4\u001b[0m\u001b[1;33m,\u001b[0m\u001b[0medges\u001b[0m \u001b[1;33m=\u001b[0m \u001b[0mTrue\u001b[0m\u001b[1;33m)\u001b[0m\u001b[1;33m\u001b[0m\u001b[0m\n\u001b[0m\u001b[0;32m      7\u001b[0m \u001b[0mmatplotlib\u001b[0m\u001b[1;33m.\u001b[0m\u001b[0mrcParams\u001b[0m\u001b[1;33m[\u001b[0m\u001b[1;34m'font.size'\u001b[0m\u001b[1;33m]\u001b[0m \u001b[1;33m=\u001b[0m \u001b[1;36m14\u001b[0m\u001b[1;33m\u001b[0m\u001b[0m\n\u001b[0;32m      8\u001b[0m \u001b[0mplt\u001b[0m\u001b[1;33m.\u001b[0m\u001b[0mpcolormesh\u001b[0m\u001b[1;33m(\u001b[0m\u001b[0mx\u001b[0m\u001b[1;33m,\u001b[0m\u001b[0my\u001b[0m\u001b[1;33m,\u001b[0m\u001b[0mg\u001b[0m\u001b[1;33m)\u001b[0m\u001b[1;33m\u001b[0m\u001b[0m\n",
      "\u001b[1;32m/home/fabian/anaconda/lib/python2.7/site-packages/iminuit/_libiminuit.so\u001b[0m in \u001b[0;36miminuit._libiminuit.Minuit.mncontour_grid (iminuit/_libiminuit.cpp:14776)\u001b[1;34m()\u001b[0m\n",
      "\u001b[1;32m/home/fabian/anaconda/lib/python2.7/site-packages/iminuit/_plotting.pyc\u001b[0m in \u001b[0;36mmncontour_grid\u001b[1;34m(self, x, y, numpoints, nsigma, sigma_res, bins, edges)\u001b[0m\n\u001b[0;32m    118\u001b[0m     \u001b[1;31m#ygrid = np.arange(miny, maxy+ystep/2, ystep)\u001b[0m\u001b[1;33m\u001b[0m\u001b[1;33m\u001b[0m\u001b[0m\n\u001b[0;32m    119\u001b[0m \u001b[1;33m\u001b[0m\u001b[0m\n\u001b[1;32m--> 120\u001b[1;33m     \u001b[0mg\u001b[0m \u001b[1;33m=\u001b[0m \u001b[0mmlab\u001b[0m\u001b[1;33m.\u001b[0m\u001b[0mgriddata\u001b[0m\u001b[1;33m(\u001b[0m\u001b[0mfx\u001b[0m\u001b[1;33m,\u001b[0m\u001b[0mfy\u001b[0m\u001b[1;33m,\u001b[0m\u001b[0mfz\u001b[0m\u001b[1;33m,\u001b[0m\u001b[0mxgrid\u001b[0m\u001b[1;33m,\u001b[0m\u001b[0mygrid\u001b[0m\u001b[1;33m)\u001b[0m\u001b[1;33m\u001b[0m\u001b[0m\n\u001b[0m\u001b[0;32m    121\u001b[0m \u001b[1;33m\u001b[0m\u001b[0m\n\u001b[0;32m    122\u001b[0m     \u001b[1;32mif\u001b[0m \u001b[0medges\u001b[0m\u001b[1;33m:\u001b[0m \u001b[1;31m#return grid edges instead of mid point (for pcolor)\u001b[0m\u001b[1;33m\u001b[0m\u001b[0m\n",
      "\u001b[1;32m/home/fabian/anaconda/lib/python2.7/site-packages/matplotlib/mlab.pyc\u001b[0m in \u001b[0;36mgriddata\u001b[1;34m(x, y, z, xi, yi, interp)\u001b[0m\n\u001b[0;32m   3441\u001b[0m             \u001b[1;32mfrom\u001b[0m \u001b[0mmpl_toolkits\u001b[0m\u001b[1;33m.\u001b[0m\u001b[0mnatgrid\u001b[0m \u001b[1;32mimport\u001b[0m \u001b[0m_natgrid\u001b[0m\u001b[1;33m\u001b[0m\u001b[0m\n\u001b[0;32m   3442\u001b[0m         \u001b[1;32mexcept\u001b[0m \u001b[0mImportError\u001b[0m\u001b[1;33m:\u001b[0m\u001b[1;33m\u001b[0m\u001b[0m\n\u001b[1;32m-> 3443\u001b[1;33m             raise RuntimeError(\"To use interp='nn' (Natural Neighbor \"\n\u001b[0m\u001b[0;32m   3444\u001b[0m                 \u001b[1;34m\"interpolation) in griddata, natgrid must be installed.  \"\u001b[0m\u001b[1;33m\u001b[0m\u001b[0m\n\u001b[0;32m   3445\u001b[0m                 \u001b[1;34m\"Either install it from http://sourceforge.net/projects/\"\u001b[0m\u001b[1;33m\u001b[0m\u001b[0m\n",
      "\u001b[1;31mRuntimeError\u001b[0m: To use interp='nn' (Natural Neighbor interpolation) in griddata, natgrid must be installed.  Either install it from http://sourceforge.net/projects/matplotlib/files/matplotlib-toolkits, or use interp='linear' instead."
     ]
    }
   ],
   "source": [
    "## contours\n",
    "#M.draw_mncontour('r', 'f', nsigma = 4)\n",
    "#plt.show()\n",
    "\n",
    "# contour plot\n",
    "x, y, g, r = M.mncontour_grid('r','f', bins = 50, nsigma=4, numpoints = 20, sigma_res = 4,edges = True)\n",
    "matplotlib.rcParams['font.size'] = 14\n",
    "plt.pcolormesh(x,y,g)\n",
    "plt.colorbar()\n",
    "plt.grid()\n",
    "\n",
    "plt.xlim((0.1, 0.7))\n",
    "plt.ylim((0.29, 0.39))\n",
    "\n",
    "plt.xticks(sp.linspace(0.2, 0.6, 3, endpoint = True))\n",
    "plt.yticks(sp.linspace(0.3, 0.38, 5, endpoint = True))\n",
    "\n",
    "plt.xlabel('turnover rate, $r$ / $year^{-1}$', fontsize = 'x-large')\n",
    "plt.ylabel('fraction renewing, $f$', fontsize = 'x-large')\n",
    "\n",
    "plt.savefig('rfcontour_grid.png', dpi = 300, bbox_inches = 'tight', transparent=True)"
   ]
  },
  {
   "cell_type": "code",
   "execution_count": null,
   "metadata": {
    "collapsed": false
   },
   "outputs": [],
   "source": [
    "## r f colormesh\n",
    "#sigma_const_initial2 = M.values['sigma_const']\n",
    "#rbins = 10\n",
    "#rmin = 0.1\n",
    "#rmax = 0.7\n",
    "#rs = sp.linspace(rmin, rmax, rbins)\n",
    "\n",
    "#fbins = 30\n",
    "#fmin = 0.30\n",
    "#fmax = 0.40\n",
    "#fs = sp.linspace(fmin, fmax, fbins)\n",
    "\n",
    "#g = sp.ma.empty((rbins, fbins))\n",
    "#g.mask = True\n",
    "\n",
    "#for i, r in enumerate(rs):\n",
    "  #for j, f in enumerate(fs):\n",
    "    #Mtemp = iminuit.Minuit(neg_loglike, errordef = 0.5, r = r, fix_r = True,  f=f, fix_f = True, sigma_const = sigma_const_initial2 , error_sigma_const = sigma_const_initial2 / 10.0, sigma_rel = sigma_rel_initial, error_sigma_rel = sigma_rel_initial / 10.0, fix_sigma_const = False, fix_sigma_rel = True,  print_level = 0, limit_sigma_rel = (0.0, None), limit_sigma_const = (0.0, None))\n",
    "    #Mtemp.migrad()\n",
    "    #if Mtemp.migrad_ok():\n",
    "      #g[i, j] = Mtemp.fval\n",
    "#g2 = g - g.min()"
   ]
  },
  {
   "cell_type": "code",
   "execution_count": null,
   "metadata": {
    "collapsed": false
   },
   "outputs": [],
   "source": []
  }
 ],
 "metadata": {
  "kernelspec": {
   "display_name": "Python 2",
   "language": "python",
   "name": "python2"
  },
  "language_info": {
   "codemirror_mode": {
    "name": "ipython",
    "version": 2
   },
   "file_extension": ".py",
   "mimetype": "text/x-python",
   "name": "python",
   "nbconvert_exporter": "python",
   "pygments_lexer": "ipython2",
   "version": "2.7.11"
  }
 },
 "nbformat": 4,
 "nbformat_minor": 0
}
